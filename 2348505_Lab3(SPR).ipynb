{
 "cells": [
  {
   "cell_type": "markdown",
   "metadata": {},
   "source": [
    "# **Lab Exercise 3: Speech/Audio to Text Conversion**"
   ]
  },
  {
   "cell_type": "markdown",
   "metadata": {},
   "source": [
    "**Importing Necessary Libraries**"
   ]
  },
  {
   "cell_type": "code",
   "execution_count": 3,
   "metadata": {},
   "outputs": [],
   "source": [
    "import speech_recognition as sr"
   ]
  },
  {
   "cell_type": "markdown",
   "metadata": {},
   "source": [
    "#### **Main Function: Speech to Text Conversion**\n",
    "\n",
    "We'll use the `recognizer` object from the `speech_recognition` library to capture and process the speech.\n",
    "\n",
    "### System Feedback\n",
    "\n",
    "The system will give users feedback at the following stages:\n",
    "- **Speak something**: Prompting the user to speak.\n",
    "- **Recognizing**: Informing the user that their speech is being processed.\n",
    "- **Speech recognized**: If the text is successfully recognized, it will display the converted text.\n",
    "- **Error handling**: For unclear speech or connection issues, the system will notify the user."
   ]
  },
  {
   "cell_type": "code",
   "execution_count": 4,
   "metadata": {},
   "outputs": [],
   "source": [
    "def speech_to_text():\n",
    "    recognizer = sr.Recognizer()\n",
    "    print(\"Speak something:\")\n",
    "    with sr.Microphone() as source:\n",
    "        try:\n",
    "            recognizer.adjust_for_ambient_noise(source)  \n",
    "            audio = recognizer.listen(source)  \n",
    "            print(\"Recognizing...\")\n",
    "            text = recognizer.recognize_google(audio)\n",
    "            print(f'Speech recognized: \"{text}\"')\n",
    "            print('Speech successfully converted to text!')\n",
    "\n",
    "        except sr.UnknownValueError:\n",
    "            print(\"Speech Recognition could not understand audio, Please try speaking more clearly\")\n",
    "        \n",
    "        except sr.RequestError:\n",
    "            print(\"Could not request results from the speech recognition service. Check your internet connection.\")\n",
    "        \n",
    "        except Exception as e:\n",
    "            print(f\"An error occurred: {str(e)}\")\n"
   ]
  },
  {
   "cell_type": "markdown",
   "metadata": {},
   "source": [
    "#### Explanation\n",
    "1. **Initialization**: We initialize the `Recognizer` object from the `speech_recognition` library.\n",
    "2. **Microphone Input**: We use the microphone as the source of input and adjust for ambient noise.\n",
    "3. **Speech Recognition**: We call `recognize_google()` to convert the captured audio to text.\n",
    "4. **Error Handling**: \n",
    "   - `UnknownValueError`: When the system cannot recognize the speech (e.g., mumbling or unclear speech).\n",
    "   - `RequestError`: If there is an issue connecting to the Google API (e.g., no internet).\n",
    "5. **Feedback**: We provide clear messages at each step (e.g., \"Speak something\", \"Recognizing\", etc.)."
   ]
  },
  {
   "cell_type": "markdown",
   "metadata": {},
   "source": [
    "### Sample Run and Inference\n",
    "\n",
    "\n",
    "1. The system will display: **\"Speak something\"**.\n",
    "2. User speaks into the microphone.\n",
    "3. The system displays: **\"Recognizing\"**.\n",
    "4. If recognized successfully, the system displays:  \n",
    "   **Speech recognized: \"Turn on the lights in the living room.\"**  \n",
    "   **Speech successfully converted to text!**\n",
    "   \n",
    "   If unclear speech is detected, it will display:  \n",
    "   **Speech Recognition could not understand audio, Please try speaking more clearly**  \n",
    "   \n",
    "   If there is a connectivity issue:  \n",
    "   **Could not request results from the speech recognition service. Check your internet connection.**"
   ]
  },
  {
   "cell_type": "markdown",
   "metadata": {},
   "source": [
    "*In this Example, I spoke clearly into the microphone and thus the function was able to correctly recognise the speech and converted it to text*"
   ]
  },
  {
   "cell_type": "code",
   "execution_count": 8,
   "metadata": {},
   "outputs": [
    {
     "name": "stdout",
     "output_type": "stream",
     "text": [
      "Speak something:\n",
      "Recognizing...\n",
      "Speech recognized: \"turn on the lights in the living room\"\n",
      "Speech successfully converted to text!\n"
     ]
    }
   ],
   "source": [
    "# Running the speech-to-text function\n",
    "if __name__ == \"__main__\":\n",
    "    speech_to_text()"
   ]
  },
  {
   "cell_type": "markdown",
   "metadata": {},
   "source": [
    "*In this Example, I turned off the internet connection and called the function, naturally because of the lack of internet connection the Google's speech-to-text didn't work and we got an error message*"
   ]
  },
  {
   "cell_type": "code",
   "execution_count": 9,
   "metadata": {},
   "outputs": [
    {
     "name": "stdout",
     "output_type": "stream",
     "text": [
      "Speak something:\n",
      "Recognizing...\n",
      "Could not request results from the speech recognition service. Check your internet connection.\n"
     ]
    }
   ],
   "source": [
    "speech_to_text()"
   ]
  },
  {
   "cell_type": "markdown",
   "metadata": {},
   "source": [
    "*In this Example, I used unclear voice specifically used a sample audio of a patient with germ cell tumor. They sometimes develop paraneoplastic encephalitis. The audio demonstrated dysarthria in a patient with autoimmune KLHL11 encephaltis.*"
   ]
  },
  {
   "cell_type": "code",
   "execution_count": 10,
   "metadata": {},
   "outputs": [
    {
     "name": "stdout",
     "output_type": "stream",
     "text": [
      "Speak something:\n",
      "Recognizing...\n",
      "Speech Recognition could not understand audio, Please try speaking more clearly\n"
     ]
    }
   ],
   "source": [
    "speech_to_text()"
   ]
  },
  {
   "cell_type": "markdown",
   "metadata": {},
   "source": [
    "### **Inference**\n",
    "\n",
    "- **Execution**: The system correctly records and processes the user's voice. It responds with feedback at each stage and handles exceptions gracefully.\n",
    "- **Concept clarity**: The main concept is the use of speech recognition for accessibility. The system demonstrates how voice input can be converted to text in real-time.\n",
    "- **Self-learning**: Built with error handling and feedback mechanisms, the system provides a good base for developing more complex voice-control features.\n",
    "  \n",
    "The simplicity of this implementation can be enhanced further by integrating this into smart devices or applications in future versions.\n",
    "\n",
    "### **Conclusion**\n",
    "\n",
    "This basic speech-to-text system provides a functional prototype that can be used as a foundation for more advanced voice-controlled accessibility features. Its performance depends on the clarity of speech and internet connection, but it handles errors efficiently, ensuring a user-friendly experience."
   ]
  }
 ],
 "metadata": {
  "kernelspec": {
   "display_name": ".venv",
   "language": "python",
   "name": "python3"
  },
  "language_info": {
   "codemirror_mode": {
    "name": "ipython",
    "version": 3
   },
   "file_extension": ".py",
   "mimetype": "text/x-python",
   "name": "python",
   "nbconvert_exporter": "python",
   "pygments_lexer": "ipython3",
   "version": "3.11.7"
  }
 },
 "nbformat": 4,
 "nbformat_minor": 2
}
