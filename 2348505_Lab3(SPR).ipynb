{
 "cells": [
  {
   "cell_type": "markdown",
   "metadata": {},
   "source": [
    "<div style=\"font-size: 28px; color: #e91e63; font-weight: bold; background-color: #fff; padding: 10px; border-radius: 8px; border: 2px solid #e91e63; text-align: center;\">\n",
    "    Lab Exercise 3: Speech/Audio to Text Conversion\n",
    "</div>\n"
   ]
  },
  {
   "cell_type": "markdown",
   "metadata": {},
   "source": [
    "<div style=\"font-size: 24px; color: #e91e63; font-weight: bold; background-color: #fff; padding: 8px; border-left: 5px solid #e91e63; margin-bottom: 10px;\">\n",
    "    Importing Necessary Libraries\n",
    "</div>\n"
   ]
  },
  {
   "cell_type": "code",
   "execution_count": 3,
   "metadata": {},
   "outputs": [],
   "source": [
    "import speech_recognition as sr"
   ]
  },
  {
   "cell_type": "markdown",
   "metadata": {},
   "source": [
    "<div style=\"font-size: 24px; color: #e91e63; font-weight: bold; margin-bottom: 10px;\">\n",
    "    Main Function: Speech to Text Conversion\n",
    "</div>\n",
    "\n",
    "<p style=\"font-size: 18px; color: #333; margin-bottom: 15px;\">\n",
    "    We'll use the <code>recognizer</code> object from the <code>speech_recognition</code> library to capture and process the speech.\n",
    "</p>\n",
    "\n",
    "<div style=\"font-size: 24px; color: #e91e63; font-weight: bold; margin-bottom: 10px;\">\n",
    "    System Feedback\n",
    "</div>\n",
    "\n",
    "<p style=\"font-size: 18px; color: #333; margin-bottom: 15px;\">\n",
    "    The system will give users feedback at the following stages:\n",
    "</p>\n",
    "\n",
    "<ul style=\"background-color: #ffe6f0; border: 1px solid #f8bbd0; border-radius: 8px; padding: 15px; list-style-type: none; color: #333; font-size: 16px; margin-bottom: 15px;\">\n",
    "    <li style=\"margin-bottom: 10px;\"><strong style=\"color: #e91e63;\">Speak something</strong>: Prompting the user to speak.</li>\n",
    "    <li style=\"margin-bottom: 10px;\"><strong style=\"color: #e91e63;\">Recognizing</strong>: Informing the user that their speech is being processed.</li>\n",
    "    <li style=\"margin-bottom: 10px;\"><strong style=\"color: #e91e63;\">Speech recognized</strong>: If the text is successfully recognized, it will display the converted text.</li>\n",
    "    <li style=\"margin-bottom: 10px;\"><strong style=\"color: #e91e63;\">Error handling</strong>: For unclear speech or connection issues, the system will notify the user.</li>\n",
    "</ul>\n"
   ]
  },
  {
   "cell_type": "code",
   "execution_count": 4,
   "metadata": {},
   "outputs": [],
   "source": [
    "def speech_to_text():\n",
    "    recognizer = sr.Recognizer()\n",
    "    print(\"Speak something:\")\n",
    "    with sr.Microphone() as source:\n",
    "        try:\n",
    "            recognizer.adjust_for_ambient_noise(source)  \n",
    "            audio = recognizer.listen(source)  \n",
    "            print(\"Recognizing...\")\n",
    "            text = recognizer.recognize_google(audio)\n",
    "            print(f'Speech recognized: \"{text}\"')\n",
    "            print('Speech successfully converted to text!')\n",
    "\n",
    "        except sr.UnknownValueError:\n",
    "            print(\"Speech Recognition could not understand audio, Please try speaking more clearly\")\n",
    "        \n",
    "        except sr.RequestError:\n",
    "            print(\"Could not request results from the speech recognition service. Check your internet connection.\")\n",
    "        \n",
    "        except Exception as e:\n",
    "            print(f\"An error occurred: {str(e)}\")"
   ]
  },
  {
   "cell_type": "markdown",
   "metadata": {},
   "source": [
    "<div style=\"font-size: 24px; color: #e91e63; font-weight: bold; margin-bottom: 10px;\">\n",
    "    Explanation\n",
    "</div>\n",
    "\n",
    "<ul style=\"background-color: #ffe6f0; border: 1px solid #f8bbd0; border-radius: 8px; padding: 15px; list-style-type: none; color: #333; font-size: 16px; margin-bottom: 15px;\">\n",
    "    <li style=\"margin-bottom: 10px;\"><strong style=\"color: #e91e63;\">Initialization</strong>: We initialize the <code>Recognizer</code> object from the <code>speech_recognition</code> library.</li>\n",
    "    <li style=\"margin-bottom: 10px;\"><strong style=\"color: #e91e63;\">Microphone Input</strong>: We use the microphone as the source of input and adjust for ambient noise.</li>\n",
    "    <li style=\"margin-bottom: 10px;\"><strong style=\"color: #e91e63;\">Speech Recognition</strong>: We call <code>recognize_google()</code> to convert the captured audio to text.</li>\n",
    "    <li style=\"margin-bottom: 10px;\"><strong style=\"color: #e91e63;\">Error Handling</strong>: \n",
    "        <ul style=\"margin-top: 5px;\">\n",
    "            <li style=\"margin-bottom: 5px;\"><strong style=\"color: #e91e63;\">UnknownValueError</strong>: When the system cannot recognize the speech (e.g., mumbling or unclear speech).</li>\n",
    "            <li style=\"margin-bottom: 5px;\"><strong style=\"color: #e91e63;\">RequestError</strong>: If there is an issue connecting to the Google API (e.g., no internet).</li>\n",
    "        </ul>\n",
    "    </li>\n",
    "    <li style=\"margin-bottom: 10px;\"><strong style=\"color: #e91e63;\">Feedback</strong>: We provide clear messages at each step (e.g., \"Speak something\", \"Recognizing\", etc.).</li>\n",
    "</ul>\n"
   ]
  },
  {
   "cell_type": "markdown",
   "metadata": {},
   "source": [
    "<div style=\"font-size: 24px; color: #e91e63; font-weight: bold; margin-bottom: 10px;\">\n",
    "    Sample Run and Inference\n",
    "</div>\n",
    "\n",
    "<ul style=\"background-color: #ffe6f0; border: 1px solid #f8bbd0; border-radius: 8px; padding: 15px; list-style-type: none; color: #333; font-size: 16px; margin-bottom: 15px;\">\n",
    "    <li style=\"margin-bottom: 10px;\">The system will display: <strong style=\"color: #e91e63;\">\"Speak something\"</strong>.</li>\n",
    "    <li style=\"margin-bottom: 10px;\">User speaks into the microphone.</li>\n",
    "    <li style=\"margin-bottom: 10px;\">The system displays: <strong style=\"color: #e91e63;\">\"Recognizing\"</strong>.</li>\n",
    "    <li style=\"margin-bottom: 10px;\">If recognized successfully, the system displays:  \n",
    "        <strong style=\"color: #e91e63;\">Speech recognized: \"Turn on the lights in the living room.\"</strong><br>\n",
    "        <strong style=\"color: #e91e63;\">Speech successfully converted to text!</strong>\n",
    "    </li>\n",
    "    <li style=\"margin-bottom: 10px;\">If unclear speech is detected, it will display:  \n",
    "        <strong style=\"color: #e91e63;\">Speech Recognition could not understand audio, Please try speaking more clearly</strong>\n",
    "    </li>\n",
    "    <li style=\"margin-bottom: 10px;\">If there is a connectivity issue:  \n",
    "        <strong style=\"color: #e91e63;\">Could not request results from the speech recognition service. Check your internet connection.</strong>\n",
    "    </li>\n",
    "</ul>\n"
   ]
  },
  {
   "cell_type": "markdown",
   "metadata": {},
   "source": [
    "<div style=\"font-size: 24px; color: #e91e63; font-weight: bold; margin-bottom: 10px;\">\n",
    "    Example Inference\n",
    "</div>\n",
    "\n",
    "<p style=\"background-color: #ffe6f0; border: 1px solid #f8bbd0; border-radius: 8px; padding: 15px; color: #333; font-size: 16px; margin-bottom: 15px;\">\n",
    "    <em style=\"color: #e91e63;\">In this example, I spoke clearly into the microphone and thus the function was able to correctly recognize the speech and convert it to text.</em>\n",
    "</p>\n"
   ]
  },
  {
   "cell_type": "code",
   "execution_count": 8,
   "metadata": {},
   "outputs": [
    {
     "name": "stdout",
     "output_type": "stream",
     "text": [
      "Speak something:\n",
      "Recognizing...\n",
      "Speech recognized: \"turn on the lights in the living room\"\n",
      "Speech successfully converted to text!\n"
     ]
    }
   ],
   "source": [
    "# Running the speech-to-text function\n",
    "if __name__ == \"__main__\":\n",
    "    speech_to_text()"
   ]
  },
  {
   "cell_type": "markdown",
   "metadata": {},
   "source": [
    "<div style=\"font-size: 24px; color: #e91e63; font-weight: bold; margin-bottom: 10px;\">\n",
    "    Example Inference - Error Case\n",
    "</div>\n",
    "\n",
    "<p style=\"background-color: #ffe6f0; border: 1px solid #f8bbd0; border-radius: 8px; padding: 15px; color: #333; font-size: 16px; margin-bottom: 15px;\">\n",
    "    <em style=\"color: #e91e63;\">In this example, I turned off the internet connection and called the function. Naturally, because of the lack of internet connection, Google's speech-to-text didn't work, and we received an error message.</em>\n",
    "</p>\n"
   ]
  },
  {
   "cell_type": "code",
   "execution_count": 9,
   "metadata": {},
   "outputs": [
    {
     "name": "stdout",
     "output_type": "stream",
     "text": [
      "Speak something:\n",
      "Recognizing...\n",
      "Could not request results from the speech recognition service. Check your internet connection.\n"
     ]
    }
   ],
   "source": [
    "speech_to_text()"
   ]
  },
  {
   "cell_type": "markdown",
   "metadata": {},
   "source": [
    "<div style=\"font-size: 24px; color: #e91e63; font-weight: bold; margin-bottom: 10px;\">\n",
    "    Example Inference - Unclear Voice Case\n",
    "</div>\n",
    "\n",
    "<p style=\"background-color: #ffe6f0; border: 1px solid #f8bbd0; border-radius: 8px; padding: 15px; color: #333; font-size: 16px; margin-bottom: 15px;\">\n",
    "    <em style=\"color: #e91e63;\">In this example, I used unclear voice, specifically a sample audio of a patient with germ cell tumor. They sometimes develop paraneoplastic encephalitis. The audio demonstrated dysarthria in a patient with autoimmune KLHL11 encephalitis.</em>\n",
    "</p>\n"
   ]
  },
  {
   "cell_type": "code",
   "execution_count": 10,
   "metadata": {},
   "outputs": [
    {
     "name": "stdout",
     "output_type": "stream",
     "text": [
      "Speak something:\n",
      "Recognizing...\n",
      "Speech Recognition could not understand audio, Please try speaking more clearly\n"
     ]
    }
   ],
   "source": [
    "speech_to_text()"
   ]
  },
  {
   "cell_type": "markdown",
   "metadata": {},
   "source": [
    "<div style=\"font-size: 24px; color: #e91e63; font-weight: bold; margin-bottom: 10px;\">\n",
    "    Inference\n",
    "</div>\n",
    "\n",
    "<div style=\"background-color: #ffe6f0; border: 1px solid #f8bbd0; border-radius: 8px; padding: 15px; color: #333; font-size: 16px; margin-bottom: 15px;\">\n",
    "    <ul style=\"margin-left: 20px;\">\n",
    "        <li><strong>Execution</strong>: The system correctly records and processes the user's voice. It responds with feedback at each stage and handles exceptions gracefully.</li>\n",
    "        <li><strong>Concept clarity</strong>: The main concept is the use of speech recognition for accessibility. The system demonstrates how voice input can be converted to text in real-time.</li>\n",
    "        <li><strong>Self-learning</strong>: Built with error handling and feedback mechanisms, the system provides a good base for developing more complex voice-control features.</li>\n",
    "    </ul>\n",
    "    <p>The simplicity of this implementation can be enhanced further by integrating this into smart devices or applications in future versions.</p>\n",
    "</div>\n",
    "\n",
    "<div style=\"font-size: 24px; color: #e91e63; font-weight: bold; margin-bottom: 10px;\">\n",
    "    Conclusion\n",
    "</div>\n",
    "\n",
    "<p style=\"background-color: #ffe6f0; border: 1px solid #f8bbd0; border-radius: 8px; padding: 15px; color: #333; font-size: 16px; margin-bottom: 15px; font-weight: bold;\">\n",
    "    This basic speech-to-text system provides a functional prototype that can be used as a foundation for more advanced voice-controlled accessibility features. Its performance depends on the clarity of speech and internet connection, but it handles errors efficiently, ensuring a user-friendly experience.\n",
    "</p>\n",
    "\n",
    "<hr style=\"border: 0; height: 2px; background-color: #e91e63; margin: 20px 0;\">\n",
    "\n",
    "<div style=\"font-size: 24px; color: #e91e63; font-weight: bold; margin-bottom: 10px;\">\n",
    "    References\n",
    "</div>\n",
    "<div style=\"background-color: #ffe6f0; border: 1px solid #f8bbd0; border-radius: 8px; padding: 15px; color: #333; font-size: 16px;\">\n",
    "    <ul>\n",
    "        <li>Python Speech Recognition Documentation: <a href=\"https://pypi.org/project/SpeechRecognition/\" target=\"_blank\">https://pypi.org/project/SpeechRecognition/</a></li>\n",
    "        <li>Google Cloud Speech-to-Text API: <a href=\"https://cloud.google.com/speech-to-text/docs\" target=\"_blank\">https://cloud.google.com/speech-to-text/docs</a></li>\n",
    "        <li>Speech Recognition GitHub Repository: <a href=\"https://github.com/Uberi/speech_recognition\" target=\"_blank\">https://github.com/Uberi/speech_recognition</a></li>\n",
    "        <li>Unclear Speech Sound: <a href=\"https://youtu.be/2Pw2mc02iDg?si=TzvwkWaNMj5I5Nh0\" target=\"_blank\">https://youtu.be/2Pw2mc02iDg?si=TzvwkWaNMj5I5Nh0</a></li>\n",
    "    </ul>\n",
    "</div>\n"
   ]
  }
 ],
 "metadata": {
  "kernelspec": {
   "display_name": ".venv",
   "language": "python",
   "name": "python3"
  },
  "language_info": {
   "codemirror_mode": {
    "name": "ipython",
    "version": 3
   },
   "file_extension": ".py",
   "mimetype": "text/x-python",
   "name": "python",
   "nbconvert_exporter": "python",
   "pygments_lexer": "ipython3",
   "version": "3.11.7"
  }
 },
 "nbformat": 4,
 "nbformat_minor": 2
}
